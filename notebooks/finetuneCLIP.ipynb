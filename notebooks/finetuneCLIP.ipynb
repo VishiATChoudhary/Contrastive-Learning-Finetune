{
 "cells": [
  {
   "cell_type": "markdown",
   "metadata": {},
   "source": [
    "# This Notebook is for finetuning CheXzero and CLIP based models in general"
   ]
  },
  {
   "cell_type": "code",
   "execution_count": 44,
   "metadata": {},
   "outputs": [],
   "source": [
    "import sys\n",
    "import torch\n",
    "import yaml\n",
    "\n",
    "from tqdm import tqdm\n",
    "import torch.optim as optim\n",
    "import torch.nn as nn\n",
    "\n",
    "\n",
    "sys.path.append(r'C:\\Users\\Vishi\\VSC Codes\\VIsLM_seminar\\VLP-Seminar')\n",
    "sys.path.append(r'C:\\Users\\Vishi\\VSC Codes\\VIsLM_seminar\\VLP-Seminar\\cheXzeroCode')\n",
    "\n",
    "import cheXzeroCode.clip as clip\n",
    "from cheXzeroCode.train import load_clip\n",
    "from cheXzeroCode.train import preprocess_text\n",
    "\n",
    "from Finetune.datasets.data_module import DataModule\n",
    "from Finetune.datasets.transforms import DataTransforms\n",
    "from Finetune.datasets.cls_dataset import RSNAImageClsDataset, ChexPertImageClsDataset\n"
   ]
  },
  {
   "cell_type": "code",
   "execution_count": 45,
   "metadata": {},
   "outputs": [],
   "source": [
    "checkpoint_path = r'C:\\Users\\Vishi\\VSC Codes\\VIsLM_seminar\\VLP-Seminar\\data\\checkpoints\\chexZero checkpoints\\best_128_0.0002_original_15000_0.859.pt'"
   ]
  },
  {
   "cell_type": "code",
   "execution_count": null,
   "metadata": {},
   "outputs": [],
   "source": [
    "\n",
    "# OpenAI CLIP model and preprocessing\n",
    "model = load_clip(model_path=checkpoint_path, pretrained = True)"
   ]
  },
  {
   "cell_type": "code",
   "execution_count": null,
   "metadata": {},
   "outputs": [],
   "source": [
    "default_values = {\n",
    "    \"dataset\": \"rsna\",\n",
    "    \"gpus\": 1,\n",
    "    \"config\": r\"C:\\Users\\Vishi\\VSC Codes\\VIsLM_seminar\\VLP-Seminar\\configs\\rsna.yaml\",\n",
    "    \"batch_size\": 12,\n",
    "    \"num_workers\": 16,\n",
    "    \"data_pct\": 1.0,\n",
    "    \"max_epochs\": 50,\n",
    "    \"ckpt_dir\": \"data/ckpts\",\n",
    "    \"logger_dir\": \"data/log_output\"\n",
    "}\n",
    "\n",
    "print(default_values)\n"
   ]
  },
  {
   "cell_type": "code",
   "execution_count": 48,
   "metadata": {},
   "outputs": [],
   "source": [
    "if default_values[\"dataset\"] == \"rsna\":\n",
    "    num_classes = 2\n",
    "elif default_values[\"dataset\"] == \"chexpert\":\n",
    "    num_classes = 14"
   ]
  },
  {
   "cell_type": "code",
   "execution_count": 49,
   "metadata": {},
   "outputs": [],
   "source": [
    "def load_config(config_path):\n",
    "    with open(config_path, \"r\") as file:\n",
    "        config = yaml.safe_load(file)\n",
    "    return config\n",
    "\n",
    "config = load_config(default_values['config'])\n"
   ]
  },
  {
   "cell_type": "code",
   "execution_count": 50,
   "metadata": {},
   "outputs": [],
   "source": [
    "datamodule = DataModule(dataset=RSNAImageClsDataset,\n",
    "                        config=config, collate_fn=None,\n",
    "                        transforms=DataTransforms,\n",
    "                        data_pct=default_values['data_pct'],\n",
    "                        batch_size=default_values['batch_size'],\n",
    "                        num_workers=default_values['num_workers']\n",
    "                        )"
   ]
  },
  {
   "cell_type": "code",
   "execution_count": null,
   "metadata": {},
   "outputs": [],
   "source": [
    "train_loader = datamodule.train_dataloader()\n",
    "val_loader = datamodule.val_dataloader()"
   ]
  },
  {
   "cell_type": "code",
   "execution_count": 52,
   "metadata": {},
   "outputs": [],
   "source": [
    "\n",
    "# Define the loss function and optimizer\n",
    "criterion = nn.CrossEntropyLoss()\n",
    "optimizer = optim.SGD(model.parameters(), lr=1e-4, momentum=0.9)\n",
    "device = torch.device(\"cuda\" if torch.cuda.is_available() else \"cpu\")"
   ]
  },
  {
   "cell_type": "code",
   "execution_count": 53,
   "metadata": {},
   "outputs": [],
   "source": [
    "def train_batch(images, texts, model, device, criterion, optimizer):\n",
    "    images, texts = images.to(device), texts.to(device)\n",
    "    \n",
    "    # Forward pass ➡\n",
    "    logits_per_image, logits_per_text = model(images, texts)\n",
    "    \n",
    "    # Create labels\n",
    "    batch_size = default_values['batch_size']\n",
    "    labels = torch.arange(batch_size).to(device)\n",
    "    \n",
    "    # Compute loss\n",
    "    loss_img = criterion(logits_per_image, labels)\n",
    "    loss_txt = criterion(logits_per_text, labels)\n",
    "    loss = (loss_img + loss_txt)/2 # avg. img and txt loss\n",
    "\n",
    "    # Backward pass ⬅\n",
    "    optimizer.zero_grad()\n",
    "    loss.backward()\n",
    "    \n",
    "    # Step with optimizer\n",
    "    optimizer.step()\n",
    "        \n",
    "    return loss\n",
    "\n",
    "\n",
    "def train_log(loss, example_ct, epoch):\n",
    "    loss = float(loss)\n",
    "    print(f\"Loss after \" + str(example_ct).zfill(5) + f\" examples: {loss:.3f}\")\n",
    "    "
   ]
  },
  {
   "cell_type": "code",
   "execution_count": null,
   "metadata": {},
   "outputs": [],
   "source": [
    "\n",
    "loader = val_loader\n",
    "\n",
    "total_batches = len(loader) * default_values['max_epochs']\n",
    "example_ct = 0  # number of examples seen\n",
    "batch_ct = 0\n",
    "highest_val_auc = 0\n",
    "for epoch in range(default_values['max_epochs']):\n",
    "    running_loss = 0.0 # running loss over batch\n",
    "    for data in tqdm(loader):\n",
    "        # get the images and labels\n",
    "        image, label = data\n",
    "\n",
    "        # print(label == 0)\n",
    "        #for all 0 entries replace with 'no pneumonia'\n",
    "        txt = ['no pneumonia' if x == 0 else 'pneumonia' for x in label]\n",
    "\n",
    "        images = image\n",
    "\n",
    "        # texts = data['txt']\n",
    "        texts = preprocess_text(txt, model) \n",
    "        loss = train_batch(images, texts, model, device, criterion, optimizer)\n",
    "\n",
    "        # # perform step for a single batch\n",
    "        # loss = train_batch(images, texts, model, device, criterion, optimizer)\n",
    "        # example_ct +=  len(images)\n",
    "        # batch_ct += 1\n",
    "        # running_loss += loss.item()\n",
    "\n",
    "\n"
   ]
  },
  {
   "cell_type": "code",
   "execution_count": null,
   "metadata": {},
   "outputs": [],
   "source": []
  }
 ],
 "metadata": {
  "kernelspec": {
   "display_name": "cheXzero",
   "language": "python",
   "name": "python3"
  },
  "language_info": {
   "codemirror_mode": {
    "name": "ipython",
    "version": 3
   },
   "file_extension": ".py",
   "mimetype": "text/x-python",
   "name": "python",
   "nbconvert_exporter": "python",
   "pygments_lexer": "ipython3",
   "version": "3.12.0"
  }
 },
 "nbformat": 4,
 "nbformat_minor": 2
}
