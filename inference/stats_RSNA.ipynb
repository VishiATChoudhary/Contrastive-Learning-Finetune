{
 "cells": [
  {
   "cell_type": "code",
   "execution_count": 4,
   "metadata": {},
   "outputs": [],
   "source": [
    "import pandas as pd"
   ]
  },
  {
   "cell_type": "code",
   "execution_count": 5,
   "metadata": {},
   "outputs": [
    {
     "data": {
      "text/html": [
       "<div>\n",
       "<style scoped>\n",
       "    .dataframe tbody tr th:only-of-type {\n",
       "        vertical-align: middle;\n",
       "    }\n",
       "\n",
       "    .dataframe tbody tr th {\n",
       "        vertical-align: top;\n",
       "    }\n",
       "\n",
       "    .dataframe thead th {\n",
       "        text-align: right;\n",
       "    }\n",
       "</style>\n",
       "<table border=\"1\" class=\"dataframe\">\n",
       "  <thead>\n",
       "    <tr style=\"text-align: right;\">\n",
       "      <th></th>\n",
       "      <th>preds</th>\n",
       "      <th>y</th>\n",
       "    </tr>\n",
       "  </thead>\n",
       "  <tbody>\n",
       "    <tr>\n",
       "      <th>0</th>\n",
       "      <td>1</td>\n",
       "      <td>0.0</td>\n",
       "    </tr>\n",
       "    <tr>\n",
       "      <th>1</th>\n",
       "      <td>1</td>\n",
       "      <td>0.0</td>\n",
       "    </tr>\n",
       "    <tr>\n",
       "      <th>2</th>\n",
       "      <td>1</td>\n",
       "      <td>1.0</td>\n",
       "    </tr>\n",
       "    <tr>\n",
       "      <th>3</th>\n",
       "      <td>1</td>\n",
       "      <td>0.0</td>\n",
       "    </tr>\n",
       "    <tr>\n",
       "      <th>4</th>\n",
       "      <td>1</td>\n",
       "      <td>1.0</td>\n",
       "    </tr>\n",
       "    <tr>\n",
       "      <th>...</th>\n",
       "      <td>...</td>\n",
       "      <td>...</td>\n",
       "    </tr>\n",
       "    <tr>\n",
       "      <th>3998</th>\n",
       "      <td>1</td>\n",
       "      <td>1.0</td>\n",
       "    </tr>\n",
       "    <tr>\n",
       "      <th>3999</th>\n",
       "      <td>1</td>\n",
       "      <td>1.0</td>\n",
       "    </tr>\n",
       "    <tr>\n",
       "      <th>4000</th>\n",
       "      <td>1</td>\n",
       "      <td>0.0</td>\n",
       "    </tr>\n",
       "    <tr>\n",
       "      <th>4001</th>\n",
       "      <td>1</td>\n",
       "      <td>1.0</td>\n",
       "    </tr>\n",
       "    <tr>\n",
       "      <th>4002</th>\n",
       "      <td>1</td>\n",
       "      <td>0.0</td>\n",
       "    </tr>\n",
       "  </tbody>\n",
       "</table>\n",
       "<p>4003 rows × 2 columns</p>\n",
       "</div>"
      ],
      "text/plain": [
       "      preds    y\n",
       "0         1  0.0\n",
       "1         1  0.0\n",
       "2         1  1.0\n",
       "3         1  0.0\n",
       "4         1  1.0\n",
       "...     ...  ...\n",
       "3998      1  1.0\n",
       "3999      1  1.0\n",
       "4000      1  0.0\n",
       "4001      1  1.0\n",
       "4002      1  0.0\n",
       "\n",
       "[4003 rows x 2 columns]"
      ]
     },
     "execution_count": 5,
     "metadata": {},
     "output_type": "execute_result"
    }
   ],
   "source": [
    "df = pd.read_csv(r'C:\\Users\\Vishi\\VSC Codes\\CheXzero Finetune\\VLP-Seminar\\predictions\\RSNA\\chZ_ft_preds_rsna_test.csv')\n",
    "df"
   ]
  },
  {
   "cell_type": "code",
   "execution_count": 6,
   "metadata": {},
   "outputs": [],
   "source": [
    "test_rsna = pd.read_csv(r'C:\\Users\\Vishi\\VSC Codes\\CheXzero Finetune\\VLP-Seminar\\annotations\\rsna\\test.csv')\n"
   ]
  },
  {
   "cell_type": "code",
   "execution_count": 7,
   "metadata": {},
   "outputs": [],
   "source": [
    "ref_df = test_rsna.copy()"
   ]
  },
  {
   "cell_type": "code",
   "execution_count": 8,
   "metadata": {},
   "outputs": [
    {
     "data": {
      "text/html": [
       "<div>\n",
       "<style scoped>\n",
       "    .dataframe tbody tr th:only-of-type {\n",
       "        vertical-align: middle;\n",
       "    }\n",
       "\n",
       "    .dataframe tbody tr th {\n",
       "        vertical-align: top;\n",
       "    }\n",
       "\n",
       "    .dataframe thead th {\n",
       "        text-align: right;\n",
       "    }\n",
       "</style>\n",
       "<table border=\"1\" class=\"dataframe\">\n",
       "  <thead>\n",
       "    <tr style=\"text-align: right;\">\n",
       "      <th></th>\n",
       "      <th>path</th>\n",
       "      <th>patientId</th>\n",
       "      <th>label</th>\n",
       "      <th>bbox</th>\n",
       "    </tr>\n",
       "  </thead>\n",
       "  <tbody>\n",
       "    <tr>\n",
       "      <th>0</th>\n",
       "      <td>C:\\Users\\Vishi\\VSC Codes\\CheXzero Finetune\\VLP...</td>\n",
       "      <td>f2698fda-0477-435f-b297-f1b284a731aa</td>\n",
       "      <td>0</td>\n",
       "      <td>[[0.0, 0.0, 0.0, 0.0]]</td>\n",
       "    </tr>\n",
       "    <tr>\n",
       "      <th>1</th>\n",
       "      <td>C:\\Users\\Vishi\\VSC Codes\\CheXzero Finetune\\VLP...</td>\n",
       "      <td>b76dd4b8-7b51-4cb6-8fd7-0b7365ef3e1e</td>\n",
       "      <td>0</td>\n",
       "      <td>[[0.0, 0.0, 0.0, 0.0]]</td>\n",
       "    </tr>\n",
       "    <tr>\n",
       "      <th>2</th>\n",
       "      <td>C:\\Users\\Vishi\\VSC Codes\\CheXzero Finetune\\VLP...</td>\n",
       "      <td>5d8dbcf9-0d68-4aec-8638-b0a9f45d71d6</td>\n",
       "      <td>1</td>\n",
       "      <td>[[605.0, 435.0, 808.0, 616.0]]</td>\n",
       "    </tr>\n",
       "    <tr>\n",
       "      <th>3</th>\n",
       "      <td>C:\\Users\\Vishi\\VSC Codes\\CheXzero Finetune\\VLP...</td>\n",
       "      <td>39dc2e50-46a1-409e-ad59-98c33d300f2a</td>\n",
       "      <td>0</td>\n",
       "      <td>[[0.0, 0.0, 0.0, 0.0]]</td>\n",
       "    </tr>\n",
       "    <tr>\n",
       "      <th>4</th>\n",
       "      <td>C:\\Users\\Vishi\\VSC Codes\\CheXzero Finetune\\VLP...</td>\n",
       "      <td>b8a2e49e-c1fc-4a78-96dd-0ee4f835eaaa</td>\n",
       "      <td>1</td>\n",
       "      <td>[[588.0, 75.0, 857.0, 783.0], [205.0, 75.0, 47...</td>\n",
       "    </tr>\n",
       "  </tbody>\n",
       "</table>\n",
       "</div>"
      ],
      "text/plain": [
       "                                                path  \\\n",
       "0  C:\\Users\\Vishi\\VSC Codes\\CheXzero Finetune\\VLP...   \n",
       "1  C:\\Users\\Vishi\\VSC Codes\\CheXzero Finetune\\VLP...   \n",
       "2  C:\\Users\\Vishi\\VSC Codes\\CheXzero Finetune\\VLP...   \n",
       "3  C:\\Users\\Vishi\\VSC Codes\\CheXzero Finetune\\VLP...   \n",
       "4  C:\\Users\\Vishi\\VSC Codes\\CheXzero Finetune\\VLP...   \n",
       "\n",
       "                              patientId  label  \\\n",
       "0  f2698fda-0477-435f-b297-f1b284a731aa      0   \n",
       "1  b76dd4b8-7b51-4cb6-8fd7-0b7365ef3e1e      0   \n",
       "2  5d8dbcf9-0d68-4aec-8638-b0a9f45d71d6      1   \n",
       "3  39dc2e50-46a1-409e-ad59-98c33d300f2a      0   \n",
       "4  b8a2e49e-c1fc-4a78-96dd-0ee4f835eaaa      1   \n",
       "\n",
       "                                                bbox  \n",
       "0                             [[0.0, 0.0, 0.0, 0.0]]  \n",
       "1                             [[0.0, 0.0, 0.0, 0.0]]  \n",
       "2                     [[605.0, 435.0, 808.0, 616.0]]  \n",
       "3                             [[0.0, 0.0, 0.0, 0.0]]  \n",
       "4  [[588.0, 75.0, 857.0, 783.0], [205.0, 75.0, 47...  "
      ]
     },
     "execution_count": 8,
     "metadata": {},
     "output_type": "execute_result"
    }
   ],
   "source": [
    "test_rsna.head()\n"
   ]
  },
  {
   "cell_type": "code",
   "execution_count": 9,
   "metadata": {},
   "outputs": [
    {
     "data": {
      "text/plain": [
       "(4003, 4003)"
      ]
     },
     "execution_count": 9,
     "metadata": {},
     "output_type": "execute_result"
    }
   ],
   "source": [
    "len(ref_df), len(df)"
   ]
  },
  {
   "cell_type": "code",
   "execution_count": 10,
   "metadata": {},
   "outputs": [
    {
     "data": {
      "text/plain": [
       "False"
      ]
     },
     "execution_count": 10,
     "metadata": {},
     "output_type": "execute_result"
    }
   ],
   "source": [
    "#merge the dataframes by row index\n",
    "merged = pd.concat([ref_df, df], axis=1)\n",
    "\n",
    "#check whether the labels are directly mappable\n",
    "False in (merged['label'] == df['y'])"
   ]
  },
  {
   "cell_type": "code",
   "execution_count": 11,
   "metadata": {},
   "outputs": [
    {
     "name": "stdout",
     "output_type": "stream",
     "text": [
      "[[ 177 2904]\n",
      " [  61  861]]\n"
     ]
    }
   ],
   "source": [
    "#create confusion matrix\n",
    "from sklearn.metrics import confusion_matrix\n",
    "import numpy as np\n",
    "y_true = df['y'].values\n",
    "y_pred = df['preds'].values\n",
    "\n",
    "cm = confusion_matrix(y_true, y_pred)\n",
    "print(cm)"
   ]
  },
  {
   "cell_type": "code",
   "execution_count": 12,
   "metadata": {},
   "outputs": [
    {
     "name": "stdout",
     "output_type": "stream",
     "text": [
      "Precision:  0.22868525896414343\n",
      "Recall:  0.9338394793926247\n",
      "F1 score:  0.367399189246853\n",
      "AUROC:  0.4956441798131575\n"
     ]
    }
   ],
   "source": [
    "#get precision and recall\n",
    "from sklearn.metrics import precision_score, recall_score\n",
    "precision = precision_score(y_true, y_pred)\n",
    "recall = recall_score(y_true, y_pred)\n",
    "print('Precision: ', precision)\n",
    "print('Recall: ', recall)\n",
    "#calculate F1 score\n",
    "f1 = 2 * (precision * recall) / (precision + recall)\n",
    "print('F1 score: ', f1)\n",
    "#calculate AUROC\n",
    "from sklearn.metrics import roc_auc_score\n",
    "roc_auc = roc_auc_score(y_true, y_pred)\n",
    "print('AUROC: ', roc_auc)"
   ]
  },
  {
   "cell_type": "code",
   "execution_count": 13,
   "metadata": {},
   "outputs": [],
   "source": [
    "import pandas as pd\n",
    "from sklearn.metrics import accuracy_score, precision_score, f1_score, roc_auc_score, recall_score, confusion_matrix\n",
    "import matplotlib.pyplot as plt\n",
    "import seaborn as sns"
   ]
  },
  {
   "cell_type": "code",
   "execution_count": 14,
   "metadata": {},
   "outputs": [
    {
     "data": {
      "image/png": "[encoded data removed]",
      "text/plain": [
       "<Figure size 600x500 with 2 Axes>"
      ]
     },
     "metadata": {},
     "output_type": "display_data"
    }
   ],
   "source": [
    "from utils.diagrams import plot_confusion_matrix\n",
    "\n",
    "cm = confusion_matrix(y_true, y_pred)\n",
    "\n",
    "plt.figure(figsize=(6, 5))\n",
    "sns.heatmap(cm, annot=True, fmt=\"d\", cmap=\"Blues\", xticklabels=['Negative', 'Positive'], yticklabels=['Negative', 'Positive'])\n",
    "plt.xlabel('Predicted Label')\n",
    "plt.ylabel('True Label')\n",
    "plt.title('Confusion Matrix CheXpert')\n",
    "plt.show()"
   ]
  }
 ],
 "metadata": {
  "kernelspec": {
   "display_name": "cheXzero",
   "language": "python",
   "name": "python3"
  },
  "language_info": {
   "codemirror_mode": {
    "name": "ipython",
    "version": 3
   },
   "file_extension": ".py",
   "mimetype": "text/x-python",
   "name": "python",
   "nbconvert_exporter": "python",
   "pygments_lexer": "ipython3",
   "version": "3.12.0"
  }
 },
 "nbformat": 4,
 "nbformat_minor": 2
}
